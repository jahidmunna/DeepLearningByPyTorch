{
 "cells": [
  {
   "cell_type": "markdown",
   "id": "99dce83a",
   "metadata": {},
   "source": [
    "# Import Libraries"
   ]
  },
  {
   "cell_type": "code",
   "execution_count": 1,
   "id": "6ec8b1e7",
   "metadata": {
    "ExecuteTime": {
     "end_time": "2023-05-07T04:33:36.969189Z",
     "start_time": "2023-05-07T04:33:35.019793Z"
    }
   },
   "outputs": [],
   "source": [
    "import torch\n",
    "import torch.nn as nn\n",
    "import torch.nn.functional as F\n",
    "\n",
    "from torch.utils.data import DataLoader\n",
    "from torchvision import datasets, transforms\n",
    "from torchvision.utils import make_grid\n",
    "\n",
    "import numpy as np\n",
    "import pandas as pd\n",
    "import matplotlib.pyplot as plt\n",
    "\n",
    "from sklearn.metrics import confusion_matrix\n",
    "\n",
    "%matplotlib inline"
   ]
  },
  {
   "cell_type": "markdown",
   "id": "9a12a066",
   "metadata": {},
   "source": [
    "# Prepare Dataset"
   ]
  },
  {
   "cell_type": "code",
   "execution_count": 2,
   "id": "7ab5ec2c",
   "metadata": {
    "ExecuteTime": {
     "end_time": "2023-05-07T04:33:36.971852Z",
     "start_time": "2023-05-07T04:33:36.970409Z"
    }
   },
   "outputs": [],
   "source": [
    "transform = transforms.ToTensor()"
   ]
  },
  {
   "cell_type": "code",
   "execution_count": 3,
   "id": "1689a47c",
   "metadata": {
    "ExecuteTime": {
     "end_time": "2023-05-07T04:33:36.999474Z",
     "start_time": "2023-05-07T04:33:36.972921Z"
    }
   },
   "outputs": [],
   "source": [
    "train_data = datasets.MNIST(root='Data/', train=True, download=True, transform=transform)\n",
    "test_data = datasets.MNIST(root='Data/', train=False, download=True, transform=transform)"
   ]
  },
  {
   "cell_type": "code",
   "execution_count": 4,
   "id": "8664b940",
   "metadata": {
    "ExecuteTime": {
     "end_time": "2023-05-07T04:33:37.004854Z",
     "start_time": "2023-05-07T04:33:37.001087Z"
    }
   },
   "outputs": [
    {
     "data": {
      "text/plain": [
       "Dataset MNIST\n",
       "    Number of datapoints: 60000\n",
       "    Root location: Data/\n",
       "    Split: Train\n",
       "    StandardTransform\n",
       "Transform: ToTensor()"
      ]
     },
     "execution_count": 4,
     "metadata": {},
     "output_type": "execute_result"
    }
   ],
   "source": [
    "train_data"
   ]
  },
  {
   "cell_type": "code",
   "execution_count": 5,
   "id": "bb23faed",
   "metadata": {
    "ExecuteTime": {
     "end_time": "2023-05-07T04:33:37.009687Z",
     "start_time": "2023-05-07T04:33:37.006032Z"
    }
   },
   "outputs": [
    {
     "data": {
      "text/plain": [
       "Dataset MNIST\n",
       "    Number of datapoints: 10000\n",
       "    Root location: Data/\n",
       "    Split: Test\n",
       "    StandardTransform\n",
       "Transform: ToTensor()"
      ]
     },
     "execution_count": 5,
     "metadata": {},
     "output_type": "execute_result"
    }
   ],
   "source": [
    "test_data"
   ]
  },
  {
   "cell_type": "code",
   "execution_count": 6,
   "id": "5bf35143",
   "metadata": {
    "ExecuteTime": {
     "end_time": "2023-05-07T04:33:37.012922Z",
     "start_time": "2023-05-07T04:33:37.010931Z"
    }
   },
   "outputs": [],
   "source": [
    "train_loader = DataLoader(train_data, batch_size=10, shuffle=True)\n",
    "test_loader = DataLoader(test_data, batch_size=10, shuffle=False)"
   ]
  },
  {
   "cell_type": "code",
   "execution_count": 7,
   "id": "fb2c6b4c",
   "metadata": {
    "ExecuteTime": {
     "end_time": "2023-05-07T04:33:37.016881Z",
     "start_time": "2023-05-07T04:33:37.013776Z"
    }
   },
   "outputs": [],
   "source": [
    "# in_channels = 1 because of gray scale image\n",
    "# out_channels = 6, feature extractions, 6 Filters\n",
    "# kernel_size = 3, means 3X3 size karnel\n",
    "# stride = 1 num of steps to move each time\n",
    "\n",
    "conv1 = nn.Conv2d(\n",
    "            in_channels=1, \n",
    "            out_channels=6, \n",
    "            kernel_size=3, \n",
    "            stride=1, \n",
    "        )"
   ]
  },
  {
   "cell_type": "code",
   "execution_count": 8,
   "id": "3e2d1a18",
   "metadata": {
    "ExecuteTime": {
     "end_time": "2023-05-07T04:33:37.021632Z",
     "start_time": "2023-05-07T04:33:37.018347Z"
    }
   },
   "outputs": [],
   "source": [
    "# in_channels = out_channels of previous conv layer\n",
    "conv2 = nn.Conv2d(\n",
    "            in_channels=6, \n",
    "            out_channels=16, \n",
    "            kernel_size=3, \n",
    "            stride=1, \n",
    "        )"
   ]
  },
  {
   "cell_type": "code",
   "execution_count": 19,
   "id": "7e9bbee7",
   "metadata": {
    "ExecuteTime": {
     "end_time": "2023-05-07T04:34:10.032654Z",
     "start_time": "2023-05-07T04:34:10.021539Z"
    }
   },
   "outputs": [],
   "source": [
    "for i, (image, label) in enumerate(train_data, 1):\n",
    "    break"
   ]
  },
  {
   "cell_type": "code",
   "execution_count": 20,
   "id": "a077d130",
   "metadata": {
    "ExecuteTime": {
     "end_time": "2023-05-07T04:34:10.385119Z",
     "start_time": "2023-05-07T04:34:10.371863Z"
    }
   },
   "outputs": [
    {
     "data": {
      "text/plain": [
       "torch.Size([1, 28, 28])"
      ]
     },
     "execution_count": 20,
     "metadata": {},
     "output_type": "execute_result"
    }
   ],
   "source": [
    "image.shape"
   ]
  },
  {
   "cell_type": "code",
   "execution_count": 21,
   "id": "9aa97d57",
   "metadata": {
    "ExecuteTime": {
     "end_time": "2023-05-07T04:34:10.939974Z",
     "start_time": "2023-05-07T04:34:10.926004Z"
    }
   },
   "outputs": [
    {
     "data": {
      "text/plain": [
       "5"
      ]
     },
     "execution_count": 21,
     "metadata": {},
     "output_type": "execute_result"
    }
   ],
   "source": [
    "label"
   ]
  },
  {
   "cell_type": "code",
   "execution_count": 22,
   "id": "17ed79dc",
   "metadata": {
    "ExecuteTime": {
     "end_time": "2023-05-07T04:34:11.518396Z",
     "start_time": "2023-05-07T04:34:11.510956Z"
    }
   },
   "outputs": [],
   "source": [
    "x = image.view(1,1,28,28) #--> 4D (b,c,w,h)"
   ]
  },
  {
   "cell_type": "code",
   "execution_count": 23,
   "id": "799ecacd",
   "metadata": {
    "ExecuteTime": {
     "end_time": "2023-05-07T04:34:12.109924Z",
     "start_time": "2023-05-07T04:34:12.099462Z"
    }
   },
   "outputs": [
    {
     "data": {
      "text/plain": [
       "torch.Size([1, 1, 28, 28])"
      ]
     },
     "execution_count": 23,
     "metadata": {},
     "output_type": "execute_result"
    }
   ],
   "source": [
    "x.shape"
   ]
  },
  {
   "cell_type": "code",
   "execution_count": 24,
   "id": "a3c52227",
   "metadata": {
    "ExecuteTime": {
     "end_time": "2023-05-07T04:34:12.866931Z",
     "start_time": "2023-05-07T04:34:12.856230Z"
    }
   },
   "outputs": [],
   "source": [
    "x = F.relu(conv1(x))"
   ]
  },
  {
   "cell_type": "code",
   "execution_count": 25,
   "id": "a8add446",
   "metadata": {
    "ExecuteTime": {
     "end_time": "2023-05-07T04:34:16.024817Z",
     "start_time": "2023-05-07T04:34:16.014178Z"
    }
   },
   "outputs": [
    {
     "data": {
      "text/plain": [
       "torch.Size([1, 6, 26, 26])"
      ]
     },
     "execution_count": 25,
     "metadata": {},
     "output_type": "execute_result"
    }
   ],
   "source": [
    "x.shape"
   ]
  },
  {
   "cell_type": "code",
   "execution_count": 26,
   "id": "8a9a6fd6",
   "metadata": {
    "ExecuteTime": {
     "end_time": "2023-05-07T04:56:37.632610Z",
     "start_time": "2023-05-07T04:56:37.619020Z"
    }
   },
   "outputs": [],
   "source": [
    "x = F.max_pool2d(x,2,2) #--> image, kernel size = 2x2, stride=2"
   ]
  },
  {
   "cell_type": "code",
   "execution_count": 27,
   "id": "f8d02d5b",
   "metadata": {
    "ExecuteTime": {
     "end_time": "2023-05-07T04:56:40.074984Z",
     "start_time": "2023-05-07T04:56:40.064265Z"
    }
   },
   "outputs": [
    {
     "data": {
      "text/plain": [
       "torch.Size([1, 6, 13, 13])"
      ]
     },
     "execution_count": 27,
     "metadata": {},
     "output_type": "execute_result"
    }
   ],
   "source": [
    "x.shape"
   ]
  },
  {
   "cell_type": "code",
   "execution_count": 28,
   "id": "64231bda",
   "metadata": {
    "ExecuteTime": {
     "end_time": "2023-05-07T04:57:48.142252Z",
     "start_time": "2023-05-07T04:57:48.134009Z"
    }
   },
   "outputs": [],
   "source": [
    " x = F.relu(conv2(x))"
   ]
  },
  {
   "cell_type": "code",
   "execution_count": 29,
   "id": "86251cd4",
   "metadata": {
    "ExecuteTime": {
     "end_time": "2023-05-07T04:57:51.974694Z",
     "start_time": "2023-05-07T04:57:51.965440Z"
    }
   },
   "outputs": [
    {
     "data": {
      "text/plain": [
       "torch.Size([1, 16, 11, 11])"
      ]
     },
     "execution_count": 29,
     "metadata": {},
     "output_type": "execute_result"
    }
   ],
   "source": [
    "x.shape"
   ]
  },
  {
   "cell_type": "code",
   "execution_count": 30,
   "id": "105f257c",
   "metadata": {
    "ExecuteTime": {
     "end_time": "2023-05-07T04:58:15.949032Z",
     "start_time": "2023-05-07T04:58:15.939508Z"
    }
   },
   "outputs": [],
   "source": [
    "x = F.max_pool2d(x, 2, 2)"
   ]
  },
  {
   "cell_type": "code",
   "execution_count": 31,
   "id": "6a9644aa",
   "metadata": {
    "ExecuteTime": {
     "end_time": "2023-05-07T04:58:18.069843Z",
     "start_time": "2023-05-07T04:58:18.059610Z"
    }
   },
   "outputs": [
    {
     "data": {
      "text/plain": [
       "torch.Size([1, 16, 5, 5])"
      ]
     },
     "execution_count": 31,
     "metadata": {},
     "output_type": "execute_result"
    }
   ],
   "source": [
    "x.shape"
   ]
  },
  {
   "cell_type": "code",
   "execution_count": 32,
   "id": "dda6be92",
   "metadata": {
    "ExecuteTime": {
     "end_time": "2023-05-07T04:59:32.636594Z",
     "start_time": "2023-05-07T04:59:32.625914Z"
    }
   },
   "outputs": [
    {
     "data": {
      "text/plain": [
       "5"
      ]
     },
     "execution_count": 32,
     "metadata": {},
     "output_type": "execute_result"
    }
   ],
   "source": [
    "(((28-2)//2)-2)//2"
   ]
  },
  {
   "cell_type": "code",
   "execution_count": 34,
   "id": "d03472eb",
   "metadata": {
    "ExecuteTime": {
     "end_time": "2023-05-07T05:00:03.793773Z",
     "start_time": "2023-05-07T05:00:03.780166Z"
    }
   },
   "outputs": [
    {
     "data": {
      "text/plain": [
       "torch.Size([1, 400])"
      ]
     },
     "execution_count": 34,
     "metadata": {},
     "output_type": "execute_result"
    }
   ],
   "source": [
    "x.view(-1, 16*5*5).shape"
   ]
  },
  {
   "cell_type": "markdown",
   "id": "e576dced",
   "metadata": {},
   "source": [
    "# Using Conv Class"
   ]
  },
  {
   "cell_type": "code",
   "execution_count": 48,
   "id": "5ffb71fe",
   "metadata": {
    "ExecuteTime": {
     "end_time": "2023-05-07T05:24:58.125135Z",
     "start_time": "2023-05-07T05:24:58.111512Z"
    }
   },
   "outputs": [],
   "source": [
    "class ConvolutionalNetwork(nn.Module):\n",
    "    \n",
    "    def __init__(self):\n",
    "        super().__init__()\n",
    "        self.conv1 = nn.Conv2d(1,6,3,1)\n",
    "        self.conv2 = nn.Conv2d(6,16,3,1)\n",
    "        self.fc1 = nn.Linear(5*5*16, 120)\n",
    "        self.fc2 = nn.Linear(120, 84)\n",
    "        self.fc3 = nn.Linear(84, 10)\n",
    "        \n",
    "    \n",
    "    def forward(self, X):\n",
    "        X = F.relu(self.conv1(X))\n",
    "        X = F.max_pool2d(X, 2, 2)\n",
    "        X = F.relu(self.conv2(X))\n",
    "        X = F.max_pool2d(X, 2, 2)\n",
    "        X = X.view(-1,16*5*5)\n",
    "        X = F.relu(self.fc1(X))\n",
    "        X = F.relu(self.fc2(X))\n",
    "        X = self.fc3(X)\n",
    "        pred = F.log_softmax(X, dim=1)\n",
    "        return pred"
   ]
  },
  {
   "cell_type": "code",
   "execution_count": 49,
   "id": "84147de6",
   "metadata": {
    "ExecuteTime": {
     "end_time": "2023-05-07T05:24:58.307528Z",
     "start_time": "2023-05-07T05:24:58.303293Z"
    }
   },
   "outputs": [
    {
     "data": {
      "text/plain": [
       "ConvolutionalNetwork(\n",
       "  (conv1): Conv2d(1, 6, kernel_size=(3, 3), stride=(1, 1))\n",
       "  (conv2): Conv2d(6, 16, kernel_size=(3, 3), stride=(1, 1))\n",
       "  (fc1): Linear(in_features=400, out_features=120, bias=True)\n",
       "  (fc2): Linear(in_features=120, out_features=84, bias=True)\n",
       "  (fc3): Linear(in_features=84, out_features=10, bias=True)\n",
       ")"
      ]
     },
     "execution_count": 49,
     "metadata": {},
     "output_type": "execute_result"
    }
   ],
   "source": [
    "torch.manual_seed(42)\n",
    "model = ConvolutionalNetwork()\n",
    "model"
   ]
  },
  {
   "cell_type": "code",
   "execution_count": 50,
   "id": "eee86a66",
   "metadata": {
    "ExecuteTime": {
     "end_time": "2023-05-07T05:24:58.490177Z",
     "start_time": "2023-05-07T05:24:58.487955Z"
    }
   },
   "outputs": [
    {
     "name": "stdout",
     "output_type": "stream",
     "text": [
      "54\n",
      "6\n",
      "864\n",
      "16\n",
      "48000\n",
      "120\n",
      "10080\n",
      "84\n",
      "840\n",
      "10\n"
     ]
    }
   ],
   "source": [
    "for param in model.parameters():\n",
    "    print(param.numel())"
   ]
  },
  {
   "cell_type": "code",
   "execution_count": 51,
   "id": "aa6f41cd",
   "metadata": {
    "ExecuteTime": {
     "end_time": "2023-05-07T05:24:58.671566Z",
     "start_time": "2023-05-07T05:24:58.669230Z"
    }
   },
   "outputs": [],
   "source": [
    "# Hyper Parameters\n",
    "criterion = nn.CrossEntropyLoss()\n",
    "optimizer = torch.optim.Adam(model.parameters(), lr=0.001)"
   ]
  },
  {
   "cell_type": "code",
   "execution_count": 52,
   "id": "b972fb52",
   "metadata": {
    "ExecuteTime": {
     "end_time": "2023-05-07T05:25:59.298953Z",
     "start_time": "2023-05-07T05:24:59.179252Z"
    }
   },
   "outputs": [
    {
     "name": "stdout",
     "output_type": "stream",
     "text": [
      "EPOCH: 1 BATCH: 600 LOSS: 0.04255058243870735\n",
      "EPOCH: 1 BATCH: 1200 LOSS: 0.07605954259634018\n",
      "EPOCH: 1 BATCH: 1800 LOSS: 0.30995792150497437\n",
      "EPOCH: 1 BATCH: 2400 LOSS: 0.020551541820168495\n",
      "EPOCH: 1 BATCH: 3000 LOSS: 0.007200110703706741\n",
      "EPOCH: 1 BATCH: 3600 LOSS: 0.0014925708528608084\n",
      "EPOCH: 1 BATCH: 4200 LOSS: 0.5335163474082947\n",
      "EPOCH: 1 BATCH: 4800 LOSS: 0.06265663355588913\n",
      "EPOCH: 1 BATCH: 5400 LOSS: 0.01638302020728588\n",
      "EPOCH: 1 BATCH: 6000 LOSS: 0.048138946294784546\n",
      "EPOCH: 2 BATCH: 600 LOSS: 0.01610490307211876\n",
      "EPOCH: 2 BATCH: 1200 LOSS: 0.03600595146417618\n",
      "EPOCH: 2 BATCH: 1800 LOSS: 0.005278380122035742\n",
      "EPOCH: 2 BATCH: 2400 LOSS: 0.03168891370296478\n",
      "EPOCH: 2 BATCH: 3000 LOSS: 0.39624544978141785\n",
      "EPOCH: 2 BATCH: 3600 LOSS: 0.004537445493042469\n",
      "EPOCH: 2 BATCH: 4200 LOSS: 0.0004565873241517693\n",
      "EPOCH: 2 BATCH: 4800 LOSS: 0.00044634751975536346\n",
      "EPOCH: 2 BATCH: 5400 LOSS: 0.0018241051584482193\n",
      "EPOCH: 2 BATCH: 6000 LOSS: 0.030887553468346596\n",
      "EPOCH: 3 BATCH: 600 LOSS: 0.0009548375383019447\n",
      "EPOCH: 3 BATCH: 1200 LOSS: 0.001206018147058785\n",
      "EPOCH: 3 BATCH: 1800 LOSS: 0.0018324896227568388\n",
      "EPOCH: 3 BATCH: 2400 LOSS: 0.0008048316230997443\n",
      "EPOCH: 3 BATCH: 3000 LOSS: 0.16926990449428558\n",
      "EPOCH: 3 BATCH: 3600 LOSS: 0.040118150413036346\n",
      "EPOCH: 3 BATCH: 4200 LOSS: 0.043145861476659775\n",
      "EPOCH: 3 BATCH: 4800 LOSS: 0.002775120083242655\n",
      "EPOCH: 3 BATCH: 5400 LOSS: 0.000410822918638587\n",
      "EPOCH: 3 BATCH: 6000 LOSS: 3.982574344263412e-05\n",
      "EPOCH: 4 BATCH: 600 LOSS: 0.00024217336613219231\n",
      "EPOCH: 4 BATCH: 1200 LOSS: 0.0007329100044444203\n",
      "EPOCH: 4 BATCH: 1800 LOSS: 0.0003682719252537936\n",
      "EPOCH: 4 BATCH: 2400 LOSS: 0.00016469377442263067\n",
      "EPOCH: 4 BATCH: 3000 LOSS: 0.005910523701459169\n",
      "EPOCH: 4 BATCH: 3600 LOSS: 0.0029580520931631327\n",
      "EPOCH: 4 BATCH: 4200 LOSS: 0.00220502563752234\n",
      "EPOCH: 4 BATCH: 4800 LOSS: 0.1574443131685257\n",
      "EPOCH: 4 BATCH: 5400 LOSS: 0.05612064152956009\n",
      "EPOCH: 4 BATCH: 6000 LOSS: 0.007338985800743103\n",
      "EPOCH: 5 BATCH: 600 LOSS: 0.004987116903066635\n",
      "EPOCH: 5 BATCH: 1200 LOSS: 0.024124719202518463\n",
      "EPOCH: 5 BATCH: 1800 LOSS: 0.0002745178353507072\n",
      "EPOCH: 5 BATCH: 2400 LOSS: 0.0005241254111751914\n",
      "EPOCH: 5 BATCH: 3000 LOSS: 0.001657373970374465\n",
      "EPOCH: 5 BATCH: 3600 LOSS: 0.0001634988293517381\n",
      "EPOCH: 5 BATCH: 4200 LOSS: 0.0012828938197344542\n",
      "EPOCH: 5 BATCH: 4800 LOSS: 0.0005442270776256919\n",
      "EPOCH: 5 BATCH: 5400 LOSS: 0.0002484203432686627\n",
      "EPOCH: 5 BATCH: 6000 LOSS: 0.01372729241847992\n",
      "Execution Time: 1.00 minutes\n"
     ]
    }
   ],
   "source": [
    "from time import time\n",
    "start_time = time()\n",
    "\n",
    "EPOCHS = 5\n",
    "\n",
    "train_losses = []\n",
    "test_losses = []\n",
    "\n",
    "train_correct = []\n",
    "test_correct = []\n",
    "\n",
    "\n",
    "for epoch in range(1, EPOCHS+1):\n",
    "    trn_corr = 0 \n",
    "    tst_corr = 0 \n",
    "    \n",
    "    # Train \n",
    "    for b, (X_train, y_train) in enumerate(train_loader, 1):\n",
    "        y_pred = model(X_train) # Not Flatten!\n",
    "        loss = criterion(y_pred, y_train)\n",
    "        \n",
    "        pred = torch.max(y_pred.data, 1)[1]\n",
    "        batch_corr = (pred == y_train).sum()\n",
    "        trn_corr += batch_corr\n",
    "        \n",
    "        optimizer.zero_grad()\n",
    "        loss.backward()\n",
    "        optimizer.step()\n",
    "        \n",
    "        if b%600==0:\n",
    "            print(f\"EPOCH: {epoch} BATCH: {b} LOSS: {loss.item()}\")\n",
    "        \n",
    "    train_losses.append(loss.item())\n",
    "    train_correct.append(trn_corr)\n",
    "    \n",
    "    # TEST\n",
    "    with torch.no_grad():\n",
    "        for b, (X_test, y_test) in enumerate(test_loader, 1):\n",
    "            y_pred = model(X_test) # Not Flatten!\n",
    "            loss = criterion(y_pred, y_test)\n",
    "\n",
    "            pred = torch.max(y_pred.data, 1)[1]\n",
    "            batch_corr = (pred == y_test).sum()\n",
    "            tst_corr += batch_corr\n",
    "\n",
    "    test_losses.append(loss.item())\n",
    "    test_correct.append(tst_corr)\n",
    "\n",
    "current_time = time()\n",
    "print(f\"Execution Time: {(current_time-start_time)/60:.2f} minutes\")"
   ]
  },
  {
   "cell_type": "code",
   "execution_count": 53,
   "id": "e4a460cf",
   "metadata": {
    "ExecuteTime": {
     "end_time": "2023-05-07T05:27:05.635152Z",
     "start_time": "2023-05-07T05:27:05.506010Z"
    }
   },
   "outputs": [
    {
     "data": {
      "image/png": "[encoded data removed]",
      "text/plain": [
       "<Figure size 640x480 with 1 Axes>"
      ]
     },
     "metadata": {},
     "output_type": "display_data"
    }
   ],
   "source": [
    "plt.plot(train_losses, label='train loss')\n",
    "plt.plot(test_losses, label='test loss')\n",
    "plt.title(\"LOSS AT EPOCH\")\n",
    "plt.legend();"
   ]
  },
  {
   "cell_type": "code",
   "execution_count": 54,
   "id": "3c68adea",
   "metadata": {
    "ExecuteTime": {
     "end_time": "2023-05-07T05:29:04.287381Z",
     "start_time": "2023-05-07T05:29:04.172151Z"
    }
   },
   "outputs": [
    {
     "data": {
      "image/png": "[encoded data removed]",
      "text/plain": [
       "<Figure size 640x480 with 1 Axes>"
      ]
     },
     "metadata": {},
     "output_type": "display_data"
    }
   ],
   "source": [
    "plt.plot([t/600 for t in train_correct], label='training accuracy')\n",
    "plt.plot([t/100 for t in test_correct], label='validation accuracy')\n",
    "plt.title(\"Accuracy at the end of each epoch\")\n",
    "plt.legend();"
   ]
  },
  {
   "cell_type": "code",
   "execution_count": 56,
   "id": "68899e48",
   "metadata": {
    "ExecuteTime": {
     "end_time": "2023-05-07T05:31:27.393699Z",
     "start_time": "2023-05-07T05:31:27.386313Z"
    }
   },
   "outputs": [],
   "source": [
    "test_loader_all = DataLoader(test_data, batch_size=10000, shuffle=False)"
   ]
  },
  {
   "cell_type": "code",
   "execution_count": 57,
   "id": "ba4ba28b",
   "metadata": {
    "ExecuteTime": {
     "end_time": "2023-05-07T05:32:26.372669Z",
     "start_time": "2023-05-07T05:32:25.921624Z"
    }
   },
   "outputs": [],
   "source": [
    "# TEST\n",
    "with torch.no_grad():\n",
    "    correct = 0\n",
    "    for X_test, y_test in test_loader_all:\n",
    "        y_pred = model(X_test) # Not Flatten!\n",
    "\n",
    "        pred = torch.max(y_pred.data, 1)[1]\n",
    "        correct += (pred==y_test).sum()"
   ]
  },
  {
   "cell_type": "code",
   "execution_count": 63,
   "id": "ce86931e",
   "metadata": {
    "ExecuteTime": {
     "end_time": "2023-05-07T05:33:19.012969Z",
     "start_time": "2023-05-07T05:33:19.001040Z"
    }
   },
   "outputs": [
    {
     "data": {
      "text/plain": [
       "0.9865"
      ]
     },
     "execution_count": 63,
     "metadata": {},
     "output_type": "execute_result"
    }
   ],
   "source": [
    "correct.item()/len(test_data)"
   ]
  },
  {
   "cell_type": "code",
   "execution_count": 72,
   "id": "2309af54",
   "metadata": {
    "ExecuteTime": {
     "end_time": "2023-05-07T05:38:34.589750Z",
     "start_time": "2023-05-07T05:38:34.570893Z"
    }
   },
   "outputs": [
    {
     "name": "stdout",
     "output_type": "stream",
     "text": [
      "[[   0    1    2    3    4    5    6    7    8    9]]\n",
      "\n",
      "[[ 974    0    1    0    0    0    3    1    1    0]\n",
      " [   5 1124    1    3    0    0    2    0    0    0]\n",
      " [   0    1 1018    5    1    0    0    5    2    0]\n",
      " [   0    0    0 1007    0    2    0    0    1    0]\n",
      " [   0    0    0    0  970    0    4    0    1    7]\n",
      " [   1    0    0   22    0  864    4    0    0    1]\n",
      " [   4    2    1    0    1    3  945    0    2    0]\n",
      " [   0    5    5    1    1    0    0 1011    2    3]\n",
      " [   2    0    1    2    0    1    0    1  965    2]\n",
      " [   0    0    0    5    6    4    0    1    6  987]]\n"
     ]
    }
   ],
   "source": [
    "# print a row of values for reference \n",
    "np.set_printoptions(formatter=dict(int=lambda x: f'{x:4}'))\n",
    "print(np.arange(10).reshape(1,10))\n",
    "print()\n",
    "\n",
    "# print confusion matrix\n",
    "print(confusion_matrix(y_test.view(-1), pred.view(-1)))"
   ]
  },
  {
   "cell_type": "markdown",
   "id": "3962d656",
   "metadata": {},
   "source": [
    "# Inferance"
   ]
  },
  {
   "cell_type": "code",
   "execution_count": 88,
   "id": "db8c0156",
   "metadata": {
    "ExecuteTime": {
     "end_time": "2023-05-07T05:45:00.470095Z",
     "start_time": "2023-05-07T05:45:00.458663Z"
    }
   },
   "outputs": [],
   "source": [
    "img = test_data[2005][0].reshape(28,28)"
   ]
  },
  {
   "cell_type": "code",
   "execution_count": 89,
   "id": "7915b370",
   "metadata": {
    "ExecuteTime": {
     "end_time": "2023-05-07T05:45:01.028858Z",
     "start_time": "2023-05-07T05:45:00.934087Z"
    }
   },
   "outputs": [
    {
     "data": {
      "image/png": "[encoded data removed]",
      "text/plain": [
       "<Figure size 640x480 with 1 Axes>"
      ]
     },
     "metadata": {},
     "output_type": "display_data"
    }
   ],
   "source": [
    "plt.imshow(img)\n",
    "pass"
   ]
  },
  {
   "cell_type": "code",
   "execution_count": 90,
   "id": "65acbecd",
   "metadata": {
    "ExecuteTime": {
     "end_time": "2023-05-07T05:45:02.991684Z",
     "start_time": "2023-05-07T05:45:02.975404Z"
    }
   },
   "outputs": [
    {
     "data": {
      "text/plain": [
       "tensor(4)"
      ]
     },
     "execution_count": 90,
     "metadata": {},
     "output_type": "execute_result"
    }
   ],
   "source": [
    "model.eval()\n",
    "with torch.no_grad():\n",
    "    prediction = model(img.view(1,1,28,28))\n",
    "    result = prediction.argmax()\n",
    "result"
   ]
  },
  {
   "cell_type": "code",
   "execution_count": null,
   "id": "c9c5980d",
   "metadata": {},
   "outputs": [],
   "source": []
  }
 ],
 "metadata": {
  "kernelspec": {
   "display_name": "Python 3 (ipykernel)",
   "language": "python",
   "name": "python3"
  },
  "language_info": {
   "codemirror_mode": {
    "name": "ipython",
    "version": 3
   },
   "file_extension": ".py",
   "mimetype": "text/x-python",
   "name": "python",
   "nbconvert_exporter": "python",
   "pygments_lexer": "ipython3",
   "version": "3.8.16"
  },
  "toc": {
   "base_numbering": 1,
   "nav_menu": {},
   "number_sections": true,
   "sideBar": true,
   "skip_h1_title": false,
   "title_cell": "Table of Contents",
   "title_sidebar": "Contents",
   "toc_cell": false,
   "toc_position": {},
   "toc_section_display": true,
   "toc_window_display": true
  },
  "varInspector": {
   "cols": {
    "lenName": 16,
    "lenType": 16,
    "lenVar": 40
   },
   "kernels_config": {
    "python": {
     "delete_cmd_postfix": "",
     "delete_cmd_prefix": "del ",
     "library": "var_list.py",
     "varRefreshCmd": "print(var_dic_list())"
    },
    "r": {
     "delete_cmd_postfix": ") ",
     "delete_cmd_prefix": "rm(",
     "library": "var_list.r",
     "varRefreshCmd": "cat(var_dic_list()) "
    }
   },
   "types_to_exclude": [
    "module",
    "function",
    "builtin_function_or_method",
    "instance",
    "_Feature"
   ],
   "window_display": false
  }
 },
 "nbformat": 4,
 "nbformat_minor": 5
}
