{
 "cells": [
  {
   "cell_type": "code",
   "execution_count": 1,
   "id": "da6079c4",
   "metadata": {
    "ExecuteTime": {
     "end_time": "2023-04-15T16:31:04.751346Z",
     "start_time": "2023-04-15T16:31:04.747481Z"
    }
   },
   "outputs": [],
   "source": [
    "#import libraries "
   ]
  },
  {
   "cell_type": "code",
   "execution_count": 2,
   "id": "9d031374",
   "metadata": {
    "ExecuteTime": {
     "end_time": "2023-04-15T16:31:05.667914Z",
     "start_time": "2023-04-15T16:31:04.753490Z"
    }
   },
   "outputs": [],
   "source": [
    "import torch\n",
    "import torch.nn as nn\n",
    "import torch.nn.functional as F"
   ]
  },
  {
   "cell_type": "code",
   "execution_count": 3,
   "id": "b7576f52",
   "metadata": {
    "ExecuteTime": {
     "end_time": "2023-04-15T16:31:05.810178Z",
     "start_time": "2023-04-15T16:31:05.668709Z"
    }
   },
   "outputs": [],
   "source": [
    "from torch.utils.data import DataLoader\n",
    "from torchvision import datasets, transforms"
   ]
  },
  {
   "cell_type": "code",
   "execution_count": 4,
   "id": "cb0cba6f",
   "metadata": {
    "ExecuteTime": {
     "end_time": "2023-04-15T16:31:06.722751Z",
     "start_time": "2023-04-15T16:31:05.812015Z"
    }
   },
   "outputs": [],
   "source": [
    "import numpy as np\n",
    "import pandas as pd\n",
    "from sklearn.metrics import confusion_matrix\n",
    "import matplotlib.pyplot as plt\n",
    "%matplotlib inline"
   ]
  },
  {
   "cell_type": "code",
   "execution_count": 5,
   "id": "58fcc896",
   "metadata": {
    "ExecuteTime": {
     "end_time": "2023-04-15T16:31:06.725491Z",
     "start_time": "2023-04-15T16:31:06.723884Z"
    }
   },
   "outputs": [],
   "source": [
    "# MNIST IMAGE --> Tensor "
   ]
  },
  {
   "cell_type": "code",
   "execution_count": 6,
   "id": "2ffc5f53",
   "metadata": {
    "ExecuteTime": {
     "end_time": "2023-04-15T16:31:06.727753Z",
     "start_time": "2023-04-15T16:31:06.726276Z"
    }
   },
   "outputs": [],
   "source": [
    "transform = transforms.ToTensor()"
   ]
  },
  {
   "cell_type": "code",
   "execution_count": 7,
   "id": "5d67fe99",
   "metadata": {
    "ExecuteTime": {
     "end_time": "2023-04-15T16:31:06.747932Z",
     "start_time": "2023-04-15T16:31:06.728520Z"
    }
   },
   "outputs": [],
   "source": [
    "train_data = datasets.MNIST(root='data/', train=True, download=True, transform=transform)"
   ]
  },
  {
   "cell_type": "code",
   "execution_count": 8,
   "id": "087b7f7c",
   "metadata": {
    "ExecuteTime": {
     "end_time": "2023-04-15T16:31:06.754309Z",
     "start_time": "2023-04-15T16:31:06.748939Z"
    }
   },
   "outputs": [],
   "source": [
    "test_data = datasets.MNIST(root='data/', train=False, download=True, transform=transform)"
   ]
  },
  {
   "cell_type": "code",
   "execution_count": 9,
   "id": "48619c86",
   "metadata": {
    "ExecuteTime": {
     "end_time": "2023-04-15T16:31:06.758563Z",
     "start_time": "2023-04-15T16:31:06.755346Z"
    }
   },
   "outputs": [
    {
     "data": {
      "text/plain": [
       "Dataset MNIST\n",
       "    Number of datapoints: 60000\n",
       "    Root location: data/\n",
       "    Split: Train\n",
       "    StandardTransform\n",
       "Transform: ToTensor()"
      ]
     },
     "execution_count": 9,
     "metadata": {},
     "output_type": "execute_result"
    }
   ],
   "source": [
    "train_data"
   ]
  },
  {
   "cell_type": "code",
   "execution_count": 10,
   "id": "29aa1079",
   "metadata": {
    "ExecuteTime": {
     "end_time": "2023-04-15T16:31:06.763590Z",
     "start_time": "2023-04-15T16:31:06.761579Z"
    }
   },
   "outputs": [
    {
     "data": {
      "text/plain": [
       "Dataset MNIST\n",
       "    Number of datapoints: 10000\n",
       "    Root location: data/\n",
       "    Split: Test\n",
       "    StandardTransform\n",
       "Transform: ToTensor()"
      ]
     },
     "execution_count": 10,
     "metadata": {},
     "output_type": "execute_result"
    }
   ],
   "source": [
    "test_data"
   ]
  },
  {
   "cell_type": "code",
   "execution_count": 11,
   "id": "192a5bbe",
   "metadata": {
    "ExecuteTime": {
     "end_time": "2023-04-15T16:31:06.766219Z",
     "start_time": "2023-04-15T16:31:06.764468Z"
    }
   },
   "outputs": [],
   "source": [
    "# show a sample"
   ]
  },
  {
   "cell_type": "code",
   "execution_count": 12,
   "id": "cbd2e1d8",
   "metadata": {
    "ExecuteTime": {
     "end_time": "2023-04-15T16:31:06.769546Z",
     "start_time": "2023-04-15T16:31:06.767020Z"
    }
   },
   "outputs": [],
   "source": [
    "image, label = train_data[0]"
   ]
  },
  {
   "cell_type": "code",
   "execution_count": 13,
   "id": "99cc78d2",
   "metadata": {
    "ExecuteTime": {
     "end_time": "2023-04-15T16:31:06.772708Z",
     "start_time": "2023-04-15T16:31:06.770626Z"
    }
   },
   "outputs": [
    {
     "data": {
      "text/plain": [
       "5"
      ]
     },
     "execution_count": 13,
     "metadata": {},
     "output_type": "execute_result"
    }
   ],
   "source": [
    "label"
   ]
  },
  {
   "cell_type": "code",
   "execution_count": 14,
   "id": "76d54449",
   "metadata": {
    "ExecuteTime": {
     "end_time": "2023-04-15T16:31:06.775648Z",
     "start_time": "2023-04-15T16:31:06.773645Z"
    }
   },
   "outputs": [
    {
     "data": {
      "text/plain": [
       "torch.Size([1, 28, 28])"
      ]
     },
     "execution_count": 14,
     "metadata": {},
     "output_type": "execute_result"
    }
   ],
   "source": [
    "image.shape"
   ]
  },
  {
   "cell_type": "code",
   "execution_count": 15,
   "id": "dc8b1046",
   "metadata": {
    "ExecuteTime": {
     "end_time": "2023-04-15T16:31:06.851757Z",
     "start_time": "2023-04-15T16:31:06.776709Z"
    }
   },
   "outputs": [
    {
     "data": {
      "text/plain": [
       "<matplotlib.image.AxesImage at 0x17d20aa00>"
      ]
     },
     "execution_count": 15,
     "metadata": {},
     "output_type": "execute_result"
    },
    {
     "data": {
      "image/png": "[encoded data removed]",
      "text/plain": [
       "<Figure size 640x480 with 1 Axes>"
      ]
     },
     "metadata": {},
     "output_type": "display_data"
    }
   ],
   "source": [
    "plt.imshow(image.reshape(28,28), cmap='gray') #reverse gist_yarg"
   ]
  },
  {
   "cell_type": "code",
   "execution_count": 16,
   "id": "b712f361",
   "metadata": {
    "ExecuteTime": {
     "end_time": "2023-04-15T16:31:06.856485Z",
     "start_time": "2023-04-15T16:31:06.852748Z"
    }
   },
   "outputs": [],
   "source": [
    "torch.manual_seed(101)\n",
    "\n",
    "train_loader = DataLoader(train_data, batch_size=100, shuffle=True)\n",
    "test_loader = DataLoader(test_data, batch_size=500, shuffle=False)"
   ]
  },
  {
   "cell_type": "code",
   "execution_count": 17,
   "id": "205a8749",
   "metadata": {
    "ExecuteTime": {
     "end_time": "2023-04-15T16:31:06.859071Z",
     "start_time": "2023-04-15T16:31:06.857507Z"
    }
   },
   "outputs": [],
   "source": [
    "# show samples from loader"
   ]
  },
  {
   "cell_type": "code",
   "execution_count": 18,
   "id": "43a188a6",
   "metadata": {
    "ExecuteTime": {
     "end_time": "2023-04-15T16:31:06.861788Z",
     "start_time": "2023-04-15T16:31:06.860066Z"
    }
   },
   "outputs": [],
   "source": [
    "from torchvision.utils import make_grid\n",
    "np.set_printoptions(formatter=dict(int=lambda x: f'{x:4}')) # FORMATTING"
   ]
  },
  {
   "cell_type": "code",
   "execution_count": 19,
   "id": "3e72e08c",
   "metadata": {
    "ExecuteTime": {
     "end_time": "2023-04-15T16:31:06.869437Z",
     "start_time": "2023-04-15T16:31:06.862807Z"
    }
   },
   "outputs": [],
   "source": [
    "# FIRST BATCH\n",
    "for image, label in train_loader:\n",
    "    break"
   ]
  },
  {
   "cell_type": "code",
   "execution_count": 20,
   "id": "a10fdbde",
   "metadata": {
    "ExecuteTime": {
     "end_time": "2023-04-15T16:31:06.872533Z",
     "start_time": "2023-04-15T16:31:06.870492Z"
    }
   },
   "outputs": [
    {
     "data": {
      "text/plain": [
       "torch.Size([100, 1, 28, 28])"
      ]
     },
     "execution_count": 20,
     "metadata": {},
     "output_type": "execute_result"
    }
   ],
   "source": [
    "image.shape #first batch "
   ]
  },
  {
   "cell_type": "code",
   "execution_count": 21,
   "id": "0e2f724b",
   "metadata": {
    "ExecuteTime": {
     "end_time": "2023-04-15T16:31:06.931864Z",
     "start_time": "2023-04-15T16:31:06.873146Z"
    }
   },
   "outputs": [
    {
     "name": "stdout",
     "output_type": "stream",
     "text": [
      "Lables:  [   7    2    3    5    8    5    3    6    9    9    1    3]\n"
     ]
    },
    {
     "data": {
      "image/png": "[encoded data removed]",
      "text/plain": [
       "<Figure size 1000x400 with 1 Axes>"
      ]
     },
     "metadata": {},
     "output_type": "display_data"
    }
   ],
   "source": [
    "# Print the first 12 labels\n",
    "print(\"Lables: \", label[:12].numpy())\n",
    "\n",
    "# print the first 12 images\n",
    "im = make_grid(image[:12], nrow=12)\n",
    "plt.figure(figsize=(10,4))\n",
    "# transpose the image from CWH to WHC\n",
    "plt.imshow(np.transpose(im.numpy(), (1,2,0)));"
   ]
  },
  {
   "cell_type": "code",
   "execution_count": 22,
   "id": "a73a8f1c",
   "metadata": {
    "ExecuteTime": {
     "end_time": "2023-04-15T16:31:06.934923Z",
     "start_time": "2023-04-15T16:31:06.933291Z"
    }
   },
   "outputs": [],
   "source": [
    "# Model Building"
   ]
  },
  {
   "cell_type": "code",
   "execution_count": 23,
   "id": "480c681b",
   "metadata": {
    "ExecuteTime": {
     "end_time": "2023-04-15T16:31:06.938722Z",
     "start_time": "2023-04-15T16:31:06.935805Z"
    }
   },
   "outputs": [],
   "source": [
    "class Model(nn.Module):\n",
    "    def __init__(self, in_feature=28*28, out_feature=10, layers=[120,84]):\n",
    "        super().__init__()\n",
    "        \n",
    "        self.fc1 = nn.Linear(in_feature, layers[0])\n",
    "        self.fc2 = nn.Linear(layers[0], layers[1])\n",
    "        self.fc3 = nn.Linear(layers[1], out_feature)\n",
    "        \n",
    "    def forward(self, x):\n",
    "        x = self.fc1(x)\n",
    "        x = F.relu(x)\n",
    "        x = self.fc2(x)\n",
    "        x = F.relu(x)\n",
    "        y_pred = F.log_softmax(x, dim=1) # Milti Class Classification\n",
    "        return y_pred"
   ]
  },
  {
   "cell_type": "code",
   "execution_count": 24,
   "id": "9e931888",
   "metadata": {
    "ExecuteTime": {
     "end_time": "2023-04-15T16:31:06.942826Z",
     "start_time": "2023-04-15T16:31:06.939595Z"
    }
   },
   "outputs": [
    {
     "data": {
      "text/plain": [
       "Model(\n",
       "  (fc1): Linear(in_features=784, out_features=120, bias=True)\n",
       "  (fc2): Linear(in_features=120, out_features=84, bias=True)\n",
       "  (fc3): Linear(in_features=84, out_features=10, bias=True)\n",
       ")"
      ]
     },
     "execution_count": 24,
     "metadata": {},
     "output_type": "execute_result"
    }
   ],
   "source": [
    "torch.manual_seed(101)\n",
    "model = Model()\n",
    "model"
   ]
  },
  {
   "cell_type": "code",
   "execution_count": 25,
   "id": "0ef1aa22",
   "metadata": {
    "ExecuteTime": {
     "end_time": "2023-04-15T16:31:06.945872Z",
     "start_time": "2023-04-15T16:31:06.943830Z"
    }
   },
   "outputs": [
    {
     "name": "stdout",
     "output_type": "stream",
     "text": [
      "94080\n",
      "120\n",
      "10080\n",
      "84\n",
      "840\n",
      "10\n"
     ]
    }
   ],
   "source": [
    "# ANN ----> CNN\n",
    "for param in model.parameters():\n",
    "    print(param.numel())"
   ]
  },
  {
   "cell_type": "code",
   "execution_count": 26,
   "id": "0de18cae",
   "metadata": {
    "ExecuteTime": {
     "end_time": "2023-04-15T16:31:06.948655Z",
     "start_time": "2023-04-15T16:31:06.946819Z"
    }
   },
   "outputs": [],
   "source": [
    "# loss function and optimizer\n",
    "criterion = nn.CrossEntropyLoss()\n",
    "optimizer = torch.optim.Adam(model.parameters(), lr=0.001)"
   ]
  },
  {
   "cell_type": "code",
   "execution_count": 27,
   "id": "b57b8e33",
   "metadata": {
    "ExecuteTime": {
     "end_time": "2023-04-15T16:31:06.951906Z",
     "start_time": "2023-04-15T16:31:06.949583Z"
    }
   },
   "outputs": [
    {
     "data": {
      "text/plain": [
       "torch.Size([100, 1, 28, 28])"
      ]
     },
     "execution_count": 27,
     "metadata": {},
     "output_type": "execute_result"
    }
   ],
   "source": [
    "image.shape  # ---- > [100, 28*28]"
   ]
  },
  {
   "cell_type": "code",
   "execution_count": 28,
   "id": "ed3d773b",
   "metadata": {
    "ExecuteTime": {
     "end_time": "2023-04-15T16:31:06.960072Z",
     "start_time": "2023-04-15T16:31:06.957689Z"
    }
   },
   "outputs": [
    {
     "data": {
      "text/plain": [
       "torch.Size([100, 784])"
      ]
     },
     "execution_count": 28,
     "metadata": {},
     "output_type": "execute_result"
    }
   ],
   "source": [
    "image.view(100,-1).shape"
   ]
  },
  {
   "cell_type": "code",
   "execution_count": 29,
   "id": "c44b7028",
   "metadata": {
    "ExecuteTime": {
     "end_time": "2023-04-15T16:31:06.962674Z",
     "start_time": "2023-04-15T16:31:06.961188Z"
    }
   },
   "outputs": [],
   "source": [
    "# Training Model"
   ]
  },
  {
   "cell_type": "code",
   "execution_count": 30,
   "id": "ac07ada5",
   "metadata": {
    "ExecuteTime": {
     "end_time": "2023-04-15T16:31:31.556906Z",
     "start_time": "2023-04-15T16:31:06.964082Z"
    }
   },
   "outputs": [
    {
     "name": "stdout",
     "output_type": "stream",
     "text": [
      "Epoch: 1 Batch: 200 Loss: 0.31175071001052856 Accuracy: 73.635\n",
      "Epoch: 1 Batch: 400 Loss: 0.37453755736351013 Accuracy: 82.28\n",
      "Epoch: 1 Batch: 600 Loss: 0.1612907350063324 Accuracy: 85.71666666666667\n",
      "Epoch: 2 Batch: 200 Loss: 0.297218918800354 Accuracy: 93.785\n",
      "Epoch: 2 Batch: 400 Loss: 0.13507138192653656 Accuracy: 94.0\n",
      "Epoch: 2 Batch: 600 Loss: 0.12411658465862274 Accuracy: 94.32333333333334\n",
      "Epoch: 3 Batch: 200 Loss: 0.1533873975276947 Accuracy: 95.465\n",
      "Epoch: 3 Batch: 400 Loss: 0.07032603025436401 Accuracy: 95.5825\n",
      "Epoch: 3 Batch: 600 Loss: 0.10482154041528702 Accuracy: 95.65666666666667\n",
      "Epoch: 4 Batch: 200 Loss: 0.16745145618915558 Accuracy: 96.615\n",
      "Epoch: 4 Batch: 400 Loss: 0.11194158345460892 Accuracy: 96.5125\n",
      "Epoch: 4 Batch: 600 Loss: 0.05645017325878143 Accuracy: 96.62333333333333\n",
      "Epoch: 5 Batch: 200 Loss: 0.1465216726064682 Accuracy: 97.36\n",
      "Epoch: 5 Batch: 400 Loss: 0.07307665050029755 Accuracy: 97.2\n",
      "Epoch: 5 Batch: 600 Loss: 0.08703742921352386 Accuracy: 97.245\n",
      "Epoch: 6 Batch: 200 Loss: 0.027377767488360405 Accuracy: 97.645\n",
      "Epoch: 6 Batch: 400 Loss: 0.06550534069538116 Accuracy: 97.66\n",
      "Epoch: 6 Batch: 600 Loss: 0.11833786964416504 Accuracy: 97.66666666666667\n",
      "Epoch: 7 Batch: 200 Loss: 0.03567258641123772 Accuracy: 98.055\n",
      "Epoch: 7 Batch: 400 Loss: 0.11109403520822525 Accuracy: 97.985\n",
      "Epoch: 7 Batch: 600 Loss: 0.10437163710594177 Accuracy: 97.96166666666667\n",
      "Epoch: 8 Batch: 200 Loss: 0.0809481218457222 Accuracy: 98.375\n",
      "Epoch: 8 Batch: 400 Loss: 0.08967263996601105 Accuracy: 98.29\n",
      "Epoch: 8 Batch: 600 Loss: 0.04611938074231148 Accuracy: 98.28\n",
      "Epoch: 9 Batch: 200 Loss: 0.008982708677649498 Accuracy: 98.58\n",
      "Epoch: 9 Batch: 400 Loss: 0.04073852673172951 Accuracy: 98.51\n",
      "Epoch: 9 Batch: 600 Loss: 0.04766009747982025 Accuracy: 98.52166666666666\n",
      "Epoch: 10 Batch: 200 Loss: 0.02658833935856819 Accuracy: 98.72\n",
      "Epoch: 10 Batch: 400 Loss: 0.024971622973680496 Accuracy: 98.6875\n",
      "Epoch: 10 Batch: 600 Loss: 0.0703897774219513 Accuracy: 98.71833333333333\n",
      "Total Time: 0.41 mins\n"
     ]
    }
   ],
   "source": [
    "import time \n",
    "st = time.time()\n",
    "\n",
    "# Training\n",
    "epochs = 10 \n",
    "\n",
    "# Trackers\n",
    "train_losses = []\n",
    "test_loss = []\n",
    "train_correct = []\n",
    "test_correct = []\n",
    "\n",
    "for i in range(1, epochs+1):\n",
    "    \n",
    "    trn_corr = 0\n",
    "    tst_corr = 0 \n",
    "    \n",
    "    for batch_num, (X_train, y_train) in enumerate(train_loader, 1):\n",
    "        \n",
    "        # 10 Neurons\n",
    "        # [0.1, 00.0, ....., 0.8] ----> 9\n",
    "        y_pred = model(X_train.view(100,-1))\n",
    "        \n",
    "        \n",
    "        loss = criterion(y_pred, y_train)\n",
    "        \n",
    "        predicted = torch.max(y_pred.data,1)[1]\n",
    "        batch_corr = (predicted==y_train).sum()\n",
    "        trn_corr +=batch_corr\n",
    "        \n",
    "        optimizer.zero_grad()\n",
    "        loss.backward()\n",
    "        optimizer.step()\n",
    "        \n",
    "        if batch_num%200 == 0:\n",
    "            acc = trn_corr.item()*100/(100*batch_num)\n",
    "            print(f'Epoch: {i} Batch: {batch_num} Loss: {loss.item()} Accuracy: {acc}')\n",
    "            \n",
    "        \n",
    "    train_losses.append(loss.item())\n",
    "    train_correct.append(trn_corr)\n",
    "\n",
    "    with torch.no_grad():\n",
    "        for batch_num, (X_test, y_test) in enumerate (test_loader, 1):\n",
    "            y_val = model(X_test.view(500,-1))\n",
    "            predicted = torch.max(y_val.data,1)[1]\n",
    "            tst_corr  += (predicted==y_test).sum()\n",
    "        \n",
    "        loss = criterion(y_val, y_test)\n",
    "        test_loss.append(loss.item())\n",
    "        test_correct.append(tst_corr)\n",
    "\n",
    "print(f\"Total Time: {(time.time()-st)/60:.2f} mins\")"
   ]
  },
  {
   "cell_type": "code",
   "execution_count": 32,
   "id": "bef0aaaa",
   "metadata": {
    "ExecuteTime": {
     "end_time": "2023-04-15T16:33:14.181247Z",
     "start_time": "2023-04-15T16:33:14.080637Z"
    }
   },
   "outputs": [
    {
     "data": {
      "text/plain": [
       "<matplotlib.legend.Legend at 0x2977612e0>"
      ]
     },
     "execution_count": 32,
     "metadata": {},
     "output_type": "execute_result"
    },
    {
     "data": {
      "image/png": "[encoded data removed]",
      "text/plain": [
       "<Figure size 640x480 with 1 Axes>"
      ]
     },
     "metadata": {},
     "output_type": "display_data"
    }
   ],
   "source": [
    "# evaluation\n",
    "\n",
    "plt.plot(train_losses, label='Training Loss')\n",
    "plt.plot(test_loss, label='Test/Validation Loss')\n",
    "plt.legend()"
   ]
  },
  {
   "cell_type": "code",
   "execution_count": 39,
   "id": "a7a1201a",
   "metadata": {
    "ExecuteTime": {
     "end_time": "2023-04-15T16:35:35.380965Z",
     "start_time": "2023-04-15T16:35:35.364511Z"
    }
   },
   "outputs": [
    {
     "data": {
      "text/plain": [
       "[tensor(85.7167),\n",
       " tensor(94.3233),\n",
       " tensor(95.6567),\n",
       " tensor(96.6233),\n",
       " tensor(97.2450),\n",
       " tensor(97.6667),\n",
       " tensor(97.9617),\n",
       " tensor(98.2800),\n",
       " tensor(98.5217),\n",
       " tensor(98.7183)]"
      ]
     },
     "execution_count": 39,
     "metadata": {},
     "output_type": "execute_result"
    }
   ],
   "source": [
    "train_acc = [t/600 for t in train_correct]\n",
    "train_acc"
   ]
  },
  {
   "cell_type": "code",
   "execution_count": 40,
   "id": "bb25c6ee",
   "metadata": {
    "ExecuteTime": {
     "end_time": "2023-04-15T16:36:21.438267Z",
     "start_time": "2023-04-15T16:36:21.424644Z"
    }
   },
   "outputs": [
    {
     "data": {
      "text/plain": [
       "[tensor(93.2400),\n",
       " tensor(94.9000),\n",
       " tensor(96.0200),\n",
       " tensor(96.3600),\n",
       " tensor(96.8400),\n",
       " tensor(96.8100),\n",
       " tensor(97.4100),\n",
       " tensor(97.3200),\n",
       " tensor(97.1700),\n",
       " tensor(97.7400)]"
      ]
     },
     "execution_count": 40,
     "metadata": {},
     "output_type": "execute_result"
    }
   ],
   "source": [
    "test_acc = [t/100 for t in test_correct]\n",
    "test_acc"
   ]
  },
  {
   "cell_type": "code",
   "execution_count": 42,
   "id": "a135a896",
   "metadata": {
    "ExecuteTime": {
     "end_time": "2023-04-15T16:37:11.684175Z",
     "start_time": "2023-04-15T16:37:11.585564Z"
    }
   },
   "outputs": [
    {
     "data": {
      "image/png": "[encoded data removed]",
      "text/plain": [
       "<Figure size 640x480 with 1 Axes>"
      ]
     },
     "metadata": {},
     "output_type": "display_data"
    }
   ],
   "source": [
    "plt.plot(train_acc, label='Train acc')\n",
    "plt.plot(test_acc, label='Test acc')\n",
    "plt.legend();"
   ]
  },
  {
   "cell_type": "code",
   "execution_count": 44,
   "id": "55ad735c",
   "metadata": {
    "ExecuteTime": {
     "end_time": "2023-04-15T16:39:02.334370Z",
     "start_time": "2023-04-15T16:39:02.316825Z"
    }
   },
   "outputs": [],
   "source": [
    "# NEW UNSEEN DATA\n",
    "\n",
    "test_load_all = DataLoader(test_data, batch_size=10000, shuffle=False)"
   ]
  },
  {
   "cell_type": "code",
   "execution_count": 58,
   "id": "00576cca",
   "metadata": {
    "ExecuteTime": {
     "end_time": "2023-04-16T17:10:44.145687Z",
     "start_time": "2023-04-16T17:10:43.660420Z"
    }
   },
   "outputs": [],
   "source": [
    "with torch.no_grad():\n",
    "    correct = 0\n",
    "    \n",
    "    for X_test, y_test in test_load_all:\n",
    "        y_val = model(X_test.view(len(X_test), -1))\n",
    "        predicted = torch.argmax(y_val,1)[1]\n",
    "        correct += (predicted==y_test).sum()"
   ]
  },
  {
   "cell_type": "code",
   "execution_count": 59,
   "id": "0e4dc2ff",
   "metadata": {
    "ExecuteTime": {
     "end_time": "2023-04-16T17:10:45.414252Z",
     "start_time": "2023-04-16T17:10:45.401502Z"
    }
   },
   "outputs": [
    {
     "data": {
      "text/plain": [
       "tensor(1032)"
      ]
     },
     "execution_count": 59,
     "metadata": {},
     "output_type": "execute_result"
    }
   ],
   "source": [
    "correct"
   ]
  },
  {
   "cell_type": "code",
   "execution_count": null,
   "id": "060c7e7b",
   "metadata": {},
   "outputs": [],
   "source": []
  }
 ],
 "metadata": {
  "kernelspec": {
   "display_name": "Python 3 (ipykernel)",
   "language": "python",
   "name": "python3"
  },
  "language_info": {
   "codemirror_mode": {
    "name": "ipython",
    "version": 3
   },
   "file_extension": ".py",
   "mimetype": "text/x-python",
   "name": "python",
   "nbconvert_exporter": "python",
   "pygments_lexer": "ipython3",
   "version": "3.8.16"
  },
  "toc": {
   "base_numbering": 1,
   "nav_menu": {},
   "number_sections": true,
   "sideBar": true,
   "skip_h1_title": false,
   "title_cell": "Table of Contents",
   "title_sidebar": "Contents",
   "toc_cell": false,
   "toc_position": {},
   "toc_section_display": true,
   "toc_window_display": true
  },
  "varInspector": {
   "cols": {
    "lenName": 16,
    "lenType": 16,
    "lenVar": 40
   },
   "kernels_config": {
    "python": {
     "delete_cmd_postfix": "",
     "delete_cmd_prefix": "del ",
     "library": "var_list.py",
     "varRefreshCmd": "print(var_dic_list())"
    },
    "r": {
     "delete_cmd_postfix": ") ",
     "delete_cmd_prefix": "rm(",
     "library": "var_list.r",
     "varRefreshCmd": "cat(var_dic_list()) "
    }
   },
   "types_to_exclude": [
    "module",
    "function",
    "builtin_function_or_method",
    "instance",
    "_Feature"
   ],
   "window_display": false
  }
 },
 "nbformat": 4,
 "nbformat_minor": 5
}
