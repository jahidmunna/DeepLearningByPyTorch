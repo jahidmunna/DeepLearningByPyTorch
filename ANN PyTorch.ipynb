{
 "cells": [
  {
   "cell_type": "markdown",
   "id": "0343915c",
   "metadata": {},
   "source": [
    "# import libraries"
   ]
  },
  {
   "cell_type": "code",
   "execution_count": 1,
   "id": "a5099b75",
   "metadata": {},
   "outputs": [],
   "source": [
    "import torch\n",
    "import torch.nn as nn\n",
    "import torch.nn.functional as F"
   ]
  },
  {
   "cell_type": "markdown",
   "id": "02027440",
   "metadata": {},
   "source": [
    "# Define Model"
   ]
  },
  {
   "cell_type": "code",
   "execution_count": 2,
   "id": "fb8be6bb",
   "metadata": {},
   "outputs": [],
   "source": [
    "class Model(nn.Module):\n",
    "    def __init__(self, in_features=4, out_features=3):\n",
    "        super().__init__()\n",
    "        # How many layers? (let's use 2 hiddle layers)\n",
    "        # First laout with output as 8 features\n",
    "        self.fc1 = nn.Linear(in_features, 8)\n",
    "        # Second layers with output 9 \n",
    "        self.fc2 = nn.Linear(8, 9)\n",
    "        # Input Layer (4 features) --> h1 N --> h2 N --> output (3 classes)\n",
    "        self.out = nn.Linear(9, out_features)\n",
    "    \n",
    "    def forward(self, x):\n",
    "        # Fully Connected Layer\n",
    "        x = self.fc1(x)\n",
    "        # Activation Function\n",
    "        x = F.relu(x)\n",
    "        # Fully Connect Layer ( Hidden Layer )\n",
    "        x = self.fc2(x)\n",
    "        # Activation Function \n",
    "        x = F.relu(x)\n",
    "        # Output Layer\n",
    "        y_pred = self.out(x)\n",
    "        return y_pred"
   ]
  },
  {
   "cell_type": "markdown",
   "id": "a6d6102c",
   "metadata": {},
   "source": [
    "## Set Random Seed"
   ]
  },
  {
   "cell_type": "code",
   "execution_count": 3,
   "id": "9230d93f",
   "metadata": {},
   "outputs": [],
   "source": [
    "torch.manual_seed(32)\n",
    "model = Model()"
   ]
  },
  {
   "cell_type": "markdown",
   "id": "5fa1cfcf",
   "metadata": {},
   "source": [
    "## train and visualization"
   ]
  },
  {
   "cell_type": "code",
   "execution_count": 2,
   "id": "cc4148a8",
   "metadata": {
    "ExecuteTime": {
     "end_time": "2023-04-14T15:07:56.554240Z",
     "start_time": "2023-04-14T15:07:56.114008Z"
    }
   },
   "outputs": [],
   "source": [
    "import pandas as pd\n",
    "import matplotlib.pyplot as plt\n",
    "%matplotlib inline"
   ]
  },
  {
   "cell_type": "code",
   "execution_count": 3,
   "id": "4c648972",
   "metadata": {
    "ExecuteTime": {
     "end_time": "2023-04-14T15:07:59.218040Z",
     "start_time": "2023-04-14T15:07:59.193379Z"
    }
   },
   "outputs": [
    {
     "data": {
      "text/html": [
       "<div>\n",
       "<style scoped>\n",
       "    .dataframe tbody tr th:only-of-type {\n",
       "        vertical-align: middle;\n",
       "    }\n",
       "\n",
       "    .dataframe tbody tr th {\n",
       "        vertical-align: top;\n",
       "    }\n",
       "\n",
       "    .dataframe thead th {\n",
       "        text-align: right;\n",
       "    }\n",
       "</style>\n",
       "<table border=\"1\" class=\"dataframe\">\n",
       "  <thead>\n",
       "    <tr style=\"text-align: right;\">\n",
       "      <th></th>\n",
       "      <th>sepal length (cm)</th>\n",
       "      <th>sepal width (cm)</th>\n",
       "      <th>petal length (cm)</th>\n",
       "      <th>petal width (cm)</th>\n",
       "      <th>target</th>\n",
       "    </tr>\n",
       "  </thead>\n",
       "  <tbody>\n",
       "    <tr>\n",
       "      <th>0</th>\n",
       "      <td>5.1</td>\n",
       "      <td>3.5</td>\n",
       "      <td>1.4</td>\n",
       "      <td>0.2</td>\n",
       "      <td>0.0</td>\n",
       "    </tr>\n",
       "    <tr>\n",
       "      <th>1</th>\n",
       "      <td>4.9</td>\n",
       "      <td>3.0</td>\n",
       "      <td>1.4</td>\n",
       "      <td>0.2</td>\n",
       "      <td>0.0</td>\n",
       "    </tr>\n",
       "    <tr>\n",
       "      <th>2</th>\n",
       "      <td>4.7</td>\n",
       "      <td>3.2</td>\n",
       "      <td>1.3</td>\n",
       "      <td>0.2</td>\n",
       "      <td>0.0</td>\n",
       "    </tr>\n",
       "    <tr>\n",
       "      <th>3</th>\n",
       "      <td>4.6</td>\n",
       "      <td>3.1</td>\n",
       "      <td>1.5</td>\n",
       "      <td>0.2</td>\n",
       "      <td>0.0</td>\n",
       "    </tr>\n",
       "    <tr>\n",
       "      <th>4</th>\n",
       "      <td>5.0</td>\n",
       "      <td>3.6</td>\n",
       "      <td>1.4</td>\n",
       "      <td>0.2</td>\n",
       "      <td>0.0</td>\n",
       "    </tr>\n",
       "  </tbody>\n",
       "</table>\n",
       "</div>"
      ],
      "text/plain": [
       "   sepal length (cm)  sepal width (cm)  petal length (cm)  petal width (cm)   \n",
       "0                5.1               3.5                1.4               0.2  \\\n",
       "1                4.9               3.0                1.4               0.2   \n",
       "2                4.7               3.2                1.3               0.2   \n",
       "3                4.6               3.1                1.5               0.2   \n",
       "4                5.0               3.6                1.4               0.2   \n",
       "\n",
       "   target  \n",
       "0     0.0  \n",
       "1     0.0  \n",
       "2     0.0  \n",
       "3     0.0  \n",
       "4     0.0  "
      ]
     },
     "execution_count": 3,
     "metadata": {},
     "output_type": "execute_result"
    }
   ],
   "source": [
    "df = pd.read_csv('iris.csv')\n",
    "df.head()"
   ]
  },
  {
   "cell_type": "code",
   "execution_count": 7,
   "id": "fd5b2fcf",
   "metadata": {},
   "outputs": [],
   "source": [
    "X = df.drop(columns={'target'}).values\n",
    "y = df['target'].values"
   ]
  },
  {
   "cell_type": "code",
   "execution_count": 8,
   "id": "dacbfec8",
   "metadata": {},
   "outputs": [],
   "source": [
    "# split train test\n",
    "from sklearn.model_selection import train_test_split"
   ]
  },
  {
   "cell_type": "code",
   "execution_count": 9,
   "id": "efee6e9b",
   "metadata": {},
   "outputs": [],
   "source": [
    "X_train, X_test, y_train, y_test = train_test_split(\n",
    "                                        X, \n",
    "                                        y, \n",
    "                                        test_size=0.2, \n",
    "                                        random_state=33\n",
    "                                    )"
   ]
  },
  {
   "cell_type": "code",
   "execution_count": 10,
   "id": "db15df9a",
   "metadata": {},
   "outputs": [],
   "source": [
    "X_train = torch.FloatTensor(X_train)\n",
    "X_test = torch.FloatTensor(X_test)"
   ]
  },
  {
   "cell_type": "code",
   "execution_count": 11,
   "id": "1a227f23",
   "metadata": {},
   "outputs": [],
   "source": [
    "y_train = torch.LongTensor(y_train)\n",
    "y_test = torch.LongTensor(y_test)"
   ]
  },
  {
   "cell_type": "code",
   "execution_count": 12,
   "id": "751f77a2",
   "metadata": {},
   "outputs": [],
   "source": [
    "# Loss Fucntion\n",
    "criterion = nn.CrossEntropyLoss() # since multiclass classification"
   ]
  },
  {
   "cell_type": "code",
   "execution_count": 13,
   "id": "647827fd",
   "metadata": {},
   "outputs": [],
   "source": [
    "# Optimizer\n",
    "optimizer = torch.optim.Adam(model.parameters(), lr=0.01)"
   ]
  },
  {
   "cell_type": "code",
   "execution_count": 14,
   "id": "56b819e9",
   "metadata": {},
   "outputs": [],
   "source": [
    "# model.parameters"
   ]
  },
  {
   "cell_type": "code",
   "execution_count": 15,
   "id": "06e1753f",
   "metadata": {},
   "outputs": [],
   "source": [
    "# Train Model"
   ]
  },
  {
   "cell_type": "code",
   "execution_count": 16,
   "id": "6df3c393",
   "metadata": {},
   "outputs": [
    {
     "name": "stdout",
     "output_type": "stream",
     "text": [
      "epoch 0 loss: 1.1507114171981812\n",
      "epoch 10 loss: 0.9377315044403076\n",
      "epoch 20 loss: 0.779825747013092\n",
      "epoch 30 loss: 0.6099401712417603\n",
      "epoch 40 loss: 0.40079936385154724\n",
      "epoch 50 loss: 0.25436320900917053\n",
      "epoch 60 loss: 0.15053053200244904\n",
      "epoch 70 loss: 0.10086946189403534\n",
      "epoch 80 loss: 0.08128317445516586\n",
      "epoch 90 loss: 0.07231428474187851\n"
     ]
    }
   ],
   "source": [
    "epochs = 100\n",
    "losses = [] \n",
    "\n",
    "for i in range(epochs):\n",
    "    # Forward and get a prediction\n",
    "    y_pred = model.forward(X_train)\n",
    "    \n",
    "    # calculate loss or error\n",
    "    loss = criterion(y_pred, y_train)\n",
    "    \n",
    "    losses.append(loss.item())\n",
    "    \n",
    "    if i %10 == 0:\n",
    "        print(f\"epoch {i} loss: {loss.item()}\")\n",
    "    \n",
    "    # Backpropagation \n",
    "    optimizer.zero_grad()\n",
    "    loss.backward()\n",
    "    optimizer.step()"
   ]
  },
  {
   "cell_type": "code",
   "execution_count": 17,
   "id": "1dda6d3d",
   "metadata": {},
   "outputs": [
    {
     "data": {
      "text/plain": [
       "Text(0.5, 0, 'Epoch')"
      ]
     },
     "execution_count": 17,
     "metadata": {},
     "output_type": "execute_result"
    },
    {
     "data": {
      "image/png": "[encoded data removed]",
      "text/plain": [
       "<Figure size 640x480 with 1 Axes>"
      ]
     },
     "metadata": {},
     "output_type": "display_data"
    }
   ],
   "source": [
    "plt.plot(range(epochs), losses)\n",
    "plt.ylabel('Loss')\n",
    "plt.xlabel('Epoch')"
   ]
  },
  {
   "cell_type": "code",
   "execution_count": 18,
   "id": "8f0dd105",
   "metadata": {},
   "outputs": [],
   "source": [
    "# Evaluate with test data"
   ]
  },
  {
   "cell_type": "code",
   "execution_count": 19,
   "id": "e28d62ce",
   "metadata": {},
   "outputs": [],
   "source": [
    "with torch.no_grad():\n",
    "    y_eval = model.forward(X_test)\n",
    "    loss = criterion(y_eval, y_test)"
   ]
  },
  {
   "cell_type": "code",
   "execution_count": 20,
   "id": "35f07c78",
   "metadata": {},
   "outputs": [
    {
     "data": {
      "text/plain": [
       "tensor(0.0581)"
      ]
     },
     "execution_count": 20,
     "metadata": {},
     "output_type": "execute_result"
    }
   ],
   "source": [
    "loss"
   ]
  },
  {
   "cell_type": "code",
   "execution_count": 28,
   "id": "1a34b283",
   "metadata": {},
   "outputs": [
    {
     "name": "stdout",
     "output_type": "stream",
     "text": [
      "1 actual: 1 pred: 1\n",
      "2 actual: 1 pred: 1\n",
      "3 actual: 0 pred: 0\n",
      "4 actual: 1 pred: 1\n",
      "5 actual: 2 pred: 2\n",
      "6 actual: 2 pred: 2\n",
      "7 actual: 0 pred: 0\n",
      "8 actual: 0 pred: 0\n",
      "9 actual: 2 pred: 2\n",
      "10 actual: 2 pred: 2\n",
      "11 actual: 2 pred: 2\n",
      "12 actual: 0 pred: 0\n",
      "13 actual: 2 pred: 2\n",
      "14 actual: 1 pred: 1\n",
      "15 actual: 2 pred: 2\n",
      "16 actual: 1 pred: 1\n",
      "17 actual: 2 pred: 2\n",
      "18 actual: 0 pred: 0\n",
      "19 actual: 1 pred: 1\n",
      "20 actual: 2 pred: 2\n",
      "21 actual: 0 pred: 0\n",
      "22 actual: 0 pred: 0\n",
      "23 actual: 2 pred: 2\n",
      "24 actual: 0 pred: 0\n",
      "25 actual: 2 pred: 2\n",
      "26 actual: 2 pred: 2\n",
      "27 actual: 1 pred: 1\n",
      "28 actual: 1 pred: 1\n",
      "29 actual: 2 pred: 2\n",
      "30 actual: 2 pred: 2\n"
     ]
    }
   ],
   "source": [
    "# let's count the correct prediction numbers\n",
    "correct = 0 \n",
    "with torch.no_grad():\n",
    "    for i, (x, y) in enumerate(zip(X_test, y_test), 1):\n",
    "        y_pred = model.forward(x).argmax().item()\n",
    "        if y == y_pred: correct +=1\n",
    "\n",
    "        print(f\"{i} actual: {y} pred: {y_pred}\")"
   ]
  },
  {
   "cell_type": "code",
   "execution_count": 29,
   "id": "81bf8d46",
   "metadata": {},
   "outputs": [
    {
     "data": {
      "text/plain": [
       "30"
      ]
     },
     "execution_count": 29,
     "metadata": {},
     "output_type": "execute_result"
    }
   ],
   "source": [
    "correct"
   ]
  },
  {
   "cell_type": "code",
   "execution_count": 31,
   "id": "cc5a8ac7",
   "metadata": {},
   "outputs": [],
   "source": [
    "# save model\n",
    "# save only Weight and Bias not the model Architecture \n",
    "torch.save(model.state_dict(), 'iris_model.pt')\n",
    "# To save entire model \n",
    "# torch.save(model, 'iris_model.pt')"
   ]
  },
  {
   "cell_type": "code",
   "execution_count": 32,
   "id": "c27e0eb4",
   "metadata": {},
   "outputs": [
    {
     "data": {
      "text/plain": [
       "<All keys matched successfully>"
      ]
     },
     "execution_count": 32,
     "metadata": {},
     "output_type": "execute_result"
    }
   ],
   "source": [
    "# Load saved model\n",
    "new_model = Model()\n",
    "new_model.load_state_dict(torch.load('iris_model.pt'))"
   ]
  },
  {
   "cell_type": "code",
   "execution_count": 33,
   "id": "3c50ce18",
   "metadata": {},
   "outputs": [
    {
     "data": {
      "text/plain": [
       "Model(\n",
       "  (fc1): Linear(in_features=4, out_features=8, bias=True)\n",
       "  (fc2): Linear(in_features=8, out_features=9, bias=True)\n",
       "  (out): Linear(in_features=9, out_features=3, bias=True)\n",
       ")"
      ]
     },
     "execution_count": 33,
     "metadata": {},
     "output_type": "execute_result"
    }
   ],
   "source": [
    "new_model.eval()"
   ]
  },
  {
   "cell_type": "code",
   "execution_count": 34,
   "id": "8120304d",
   "metadata": {},
   "outputs": [],
   "source": [
    "# use trained model to prediction\n",
    "sample = torch.tensor([5.6, 3.7, 2.2, 0.5])"
   ]
  },
  {
   "cell_type": "code",
   "execution_count": 36,
   "id": "476ff460",
   "metadata": {},
   "outputs": [
    {
     "name": "stdout",
     "output_type": "stream",
     "text": [
      "0\n"
     ]
    }
   ],
   "source": [
    "with torch.no_grad():\n",
    "    print(new_model(sample).argmax().item())"
   ]
  },
  {
   "cell_type": "code",
   "execution_count": null,
   "id": "ce06cac5",
   "metadata": {},
   "outputs": [],
   "source": []
  }
 ],
 "metadata": {
  "kernelspec": {
   "display_name": "Python 3 (ipykernel)",
   "language": "python",
   "name": "python3"
  },
  "language_info": {
   "codemirror_mode": {
    "name": "ipython",
    "version": 3
   },
   "file_extension": ".py",
   "mimetype": "text/x-python",
   "name": "python",
   "nbconvert_exporter": "python",
   "pygments_lexer": "ipython3",
   "version": "3.8.16"
  },
  "toc": {
   "base_numbering": 1,
   "nav_menu": {},
   "number_sections": true,
   "sideBar": true,
   "skip_h1_title": false,
   "title_cell": "Table of Contents",
   "title_sidebar": "Contents",
   "toc_cell": false,
   "toc_position": {
    "height": "calc(100% - 180px)",
    "left": "10px",
    "top": "150px",
    "width": "364px"
   },
   "toc_section_display": true,
   "toc_window_display": true
  },
  "varInspector": {
   "cols": {
    "lenName": 16,
    "lenType": 16,
    "lenVar": 40
   },
   "kernels_config": {
    "python": {
     "delete_cmd_postfix": "",
     "delete_cmd_prefix": "del ",
     "library": "var_list.py",
     "varRefreshCmd": "print(var_dic_list())"
    },
    "r": {
     "delete_cmd_postfix": ") ",
     "delete_cmd_prefix": "rm(",
     "library": "var_list.r",
     "varRefreshCmd": "cat(var_dic_list()) "
    }
   },
   "types_to_exclude": [
    "module",
    "function",
    "builtin_function_or_method",
    "instance",
    "_Feature"
   ],
   "window_display": false
  }
 },
 "nbformat": 4,
 "nbformat_minor": 5
}
